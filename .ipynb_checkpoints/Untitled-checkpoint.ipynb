{
 "cells": [
  {
   "cell_type": "code",
   "execution_count": 1,
   "id": "1220458d-c75d-4574-b9e7-6bd29eefbd39",
   "metadata": {},
   "outputs": [
    {
     "name": "stdout",
     "output_type": "stream",
     "text": [
      "Hello World in code spaces\n"
     ]
    }
   ],
   "source": [
    "print (\"Hello World in code spaces\")"
   ]
  },
  {
   "cell_type": "code",
   "execution_count": null,
   "id": "f7635e5a-a3b1-48ef-a9e3-a688d713df07",
   "metadata": {},
   "outputs": [],
   "source": []
  }
 ],
 "metadata": {
  "kernelspec": {
   "display_name": "Python 3 (ipykernel)",
   "language": "python",
   "name": "python3"
  },
  "language_info": {
   "codemirror_mode": {
    "name": "ipython",
    "version": 3
   },
   "file_extension": ".py",
   "mimetype": "text/x-python",
   "name": "python",
   "nbconvert_exporter": "python",
   "pygments_lexer": "ipython3",
   "version": "3.12.1"
  }
 },
 "nbformat": 4,
 "nbformat_minor": 5
}
